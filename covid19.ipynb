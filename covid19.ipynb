{
 "cells": [
  {
   "cell_type": "markdown",
   "id": "7c12f6a2-33e0-445a-9b8a-c1edb4001d39",
   "metadata": {},
   "source": [
    "# COVID-19 Data Analysis Project"
   ]
  },
  {
   "cell_type": "markdown",
   "id": "3e9644db-8c73-46fa-b6b5-b07682981a86",
   "metadata": {
    "tags": []
   },
   "source": [
    "## Project Introduction"
   ]
  },
  {
   "cell_type": "markdown",
   "id": "48874766-0bc4-4711-b3f2-42ad47509d00",
   "metadata": {},
   "source": [
    "##### Porpuse : This project's aim is to show with devastating of Covid-19 on the humanity. I prepared the project with the web service that brings the effects of the COVID-19 virus worldwide and the data of the World Health Organization (WHO) in general and in detail. I thank to CollectApi to provide service like this useful.\n",
    "##### Gains :\n",
    " * Increased Python experience by using important Python libraries such as Pandas.\n",
    " * Hands on experience to data visualization with matplotlib and seaborn libraries.\n",
    " * API usage example\n",
    " * Some important tips for data analysis\n",
    "##### Owner  : İzzet Özdemir\n",
    "##### Source : collectapi.com (COVID-19 Coronavirus Statistics API)"
   ]
  },
  {
   "cell_type": "code",
   "execution_count": 3,
   "id": "600c2ce6-945b-42ac-9378-2c1fdb52f34f",
   "metadata": {},
   "outputs": [],
   "source": [
    "import http.client as hc\n",
    "import json as js\n",
    "import pandas as pd\n",
    "import matplotlib.pyplot as plt\n",
    "import seaborn as sns"
   ]
  },
  {
   "cell_type": "code",
   "execution_count": 14,
   "id": "09fa9b90-5923-497c-adce-a6826a1a549c",
   "metadata": {},
   "outputs": [],
   "source": [
    "conn = hc.HTTPSConnection(\"api.collectapi.com\")\n",
    "headers = {'content-type': \"application/json\",\n",
    "           'authorization': \"apikey your Token\" }\n",
    "conn.request(\"GET\", \"/corona/countriesData\", headers=headers)\n",
    "res = conn.getresponse()\n",
    "data = res.read()\n",
    "data_json = data.decode(\"utf-8\")"
   ]
  },
  {
   "cell_type": "code",
   "execution_count": 6,
   "id": "3b13ddd7-ea5d-41a7-8fc8-c1b139e8ca92",
   "metadata": {},
   "outputs": [],
   "source": [
    "data_dict = js.loads(data_json)"
   ]
  },
  {
   "cell_type": "code",
   "execution_count": 7,
   "id": "a4265430-8d65-4682-8192-4761251fc5fe",
   "metadata": {},
   "outputs": [],
   "source": [
    "data_result = data_dict[\"result\"]"
   ]
  },
  {
   "cell_type": "code",
   "execution_count": 8,
   "id": "590e15a0-4dc2-484b-9987-440e0776e90d",
   "metadata": {},
   "outputs": [],
   "source": [
    "mydata = {}"
   ]
  },
  {
   "cell_type": "code",
   "execution_count": 9,
   "id": "f107cd20-51e9-464c-ab36-719ca71d3284",
   "metadata": {},
   "outputs": [],
   "source": [
    "for say in range(len(data_result)-1):\n",
    "    result_dict = data_result[say]\n",
    "    new_totalDeaths = result_dict[\"totalDeaths\"]\n",
    "    if new_totalDeaths=='': new_totalDeaths='0'\n",
    "    new_totalDeaths = new_totalDeaths.replace(\",\",\"\")\n",
    "    new_totalDeaths = int(new_totalDeaths)\n",
    "    mydata[result_dict[\"country\"]] = new_totalDeaths"
   ]
  },
  {
   "cell_type": "code",
   "execution_count": 10,
   "id": "2ea7c7ef-f5d8-4a6e-af01-a863a37c8ac6",
   "metadata": {},
   "outputs": [],
   "source": [
    "df = pd.DataFrame(mydata.values(), index=mydata.keys(), columns=['TotalDeaths'])"
   ]
  },
  {
   "cell_type": "code",
   "execution_count": 11,
   "id": "faa9bced-5e1a-4e55-8b19-56b139edc451",
   "metadata": {},
   "outputs": [],
   "source": [
    "df = df[\"TotalDeaths\"].sort_values(ascending=False)"
   ]
  },
  {
   "cell_type": "code",
   "execution_count": 12,
   "id": "f8fe1c92-9bfd-479c-9f99-29fd5a65f7ca",
   "metadata": {},
   "outputs": [],
   "source": [
    "dnum = 20"
   ]
  },
  {
   "cell_type": "code",
   "execution_count": 15,
   "id": "2239e672-d64f-43c3-a40a-972290c00d39",
   "metadata": {},
   "outputs": [
    {
     "data": {
      "image/png": "[encoded data removed]",
      "text/plain": [
       "<Figure size 864x360 with 1 Axes>"
      ]
     },
     "metadata": {},
     "output_type": "display_data"
    }
   ],
   "source": [
    "sns.set(rc={'figure.figsize':(12,5)})\n",
    "ax = sns.barplot(x=(df.head(dnum).values), y=df.head(dnum).index)\n",
    "ax.set_title('Covid19 Total Deaths Based On Countries') \n",
    "ax.set_xlabel('Values')\n",
    "ax.set_ylabel('Countries')\n",
    "plt.show()"
   ]
  },
  {
   "cell_type": "markdown",
   "id": "83993e40-06c6-4fb9-9121-d418038a7828",
   "metadata": {},
   "source": [
    "##### _Sample Data :_\n",
    "###### {\"success\": true,\n",
    "######  \"result\":[\n",
    "######    { \"country\": \"China\",\n",
    "######      \"totalcases\": \"80,881\",\n",
    "######      \"newCases\": \"+21\",\n",
    "######      \"totaldeaths\": \"3,226\",\n",
    "######      \"newDeaths\": \"+13\",\n",
    "######      \"totalRecovered\": \"68,709\",\n",
    "######      \"activeCases\": \"8,946\" },\n",
    "######    { \"country\": \"Italy\",\n",
    "######      \"totalcases\": \"27,980\",\n",
    "######      \"newCases\": \"\",\n",
    "######      \"totaldeaths\": \"2,158\",\n",
    "######      \"newDeaths\": \"\",\n",
    "######      \"totalRecovered\": \"2,749\",\n",
    "######      \"activeCases\": \"23,073\" },\n",
    "######    \"...\"\n",
    "######  ] }"
   ]
  }
 ],
 "metadata": {
  "kernelspec": {
   "display_name": "Python 3 (ipykernel)",
   "language": "python",
   "name": "python3"
  },
  "language_info": {
   "codemirror_mode": {
    "name": "ipython",
    "version": 3
   },
   "file_extension": ".py",
   "mimetype": "text/x-python",
   "name": "python",
   "nbconvert_exporter": "python",
   "pygments_lexer": "ipython3",
   "version": "3.9.13"
  }
 },
 "nbformat": 4,
 "nbformat_minor": 5
}
